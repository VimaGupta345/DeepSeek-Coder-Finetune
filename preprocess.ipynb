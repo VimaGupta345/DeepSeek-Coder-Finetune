{
 "cells": [
  {
   "cell_type": "code",
   "execution_count": 2,
   "id": "de5205b8",
   "metadata": {},
   "outputs": [
    {
     "name": "stderr",
     "output_type": "stream",
     "text": [
      "/opt/conda/envs/deepseek-coder/lib/python3.10/site-packages/tqdm/auto.py:21: TqdmWarning: IProgress not found. Please update jupyter and ipywidgets. See https://ipywidgets.readthedocs.io/en/stable/user_install.html\n",
      "  from .autonotebook import tqdm as notebook_tqdm\n"
     ]
    }
   ],
   "source": [
    "from datasets import load_dataset"
   ]
  },
  {
   "cell_type": "code",
   "execution_count": 3,
   "id": "15080d55",
   "metadata": {},
   "outputs": [],
   "source": [
    "import json\n",
    "import os"
   ]
  },
  {
   "cell_type": "code",
   "execution_count": 4,
   "id": "f822a0f8",
   "metadata": {},
   "outputs": [
    {
     "name": "stdout",
     "output_type": "stream",
     "text": [
      "Loading dataset...\n",
      "Processing and writing...\n",
      "✅ Saved 100000 examples to data/rust_instruct_format.jsonl\n"
     ]
    }
   ],
   "source": [
    "# Ensure output directory exists\n",
    "os.makedirs(\"data\", exist_ok=True)\n",
    "\n",
    "# Load dataset: take 100k examples\n",
    "print(\"Loading dataset...\")\n",
    "ds = load_dataset(\"ammarnasr/the-stack-rust-clean\", split=\"train[:100000]\")\n",
    "\n",
    "# Output path\n",
    "output_path = \"data/rust_instruct_format.jsonl\"\n",
    "count = 0\n",
    "\n",
    "print(\"Processing and writing...\")\n",
    "with open(output_path, \"w\") as f:\n",
    "    for example in ds:\n",
    "        content = example.get(\"content\", \"\").strip()\n",
    "        if not content:\n",
    "            continue\n",
    "\n",
    "        instruction = \"Explain and rewrite the following Rust code:\"\n",
    "        output = content\n",
    "\n",
    "        entry = {\"instruction\": instruction, \"output\": output}\n",
    "        f.write(json.dumps(entry) + \"\\n\")\n",
    "        count += 1\n",
    "\n",
    "print(f\"✅ Saved {count} examples to {output_path}\")"
   ]
  },
  {
   "cell_type": "code",
   "execution_count": null,
   "id": "da95d3a4",
   "metadata": {},
   "outputs": [],
   "source": []
  }
 ],
 "metadata": {
  "kernelspec": {
   "display_name": "deepseek-coder",
   "language": "python",
   "name": "python3"
  },
  "language_info": {
   "codemirror_mode": {
    "name": "ipython",
    "version": 3
   },
   "file_extension": ".py",
   "mimetype": "text/x-python",
   "name": "python",
   "nbconvert_exporter": "python",
   "pygments_lexer": "ipython3",
   "version": "3.10.17"
  }
 },
 "nbformat": 4,
 "nbformat_minor": 5
}
